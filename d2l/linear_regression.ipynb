{
 "cells": [
  {
   "cell_type": "code",
   "execution_count": 13,
   "id": "81afd114",
   "metadata": {},
   "outputs": [],
   "source": [
    "import numpy as np\n",
    "import torch\n",
    "from torch.utils import data\n",
    "from d2l import torch as d2l\n",
    "from torch import nn\n",
    "\n",
    "true_w = torch.tensor([2,-3.4])\n",
    "true_b = 4.2\n",
    "\n",
    "features, labels = d2l.synthetic_data(true_w, true_b, 1000) # 根据给定的w和b生成数据"
   ]
  },
  {
   "cell_type": "code",
   "execution_count": 14,
   "id": "619e2e60",
   "metadata": {},
   "outputs": [
    {
     "name": "stdout",
     "output_type": "stream",
     "text": [
      "next(iter(data_iter)): [tensor([[-0.4074, -2.6927],\n",
      "        [-0.4321, -1.1584],\n",
      "        [ 0.1526, -0.3421],\n",
      "        [ 0.1003,  0.5685],\n",
      "        [-0.5705, -0.4213],\n",
      "        [-0.3257, -0.7906],\n",
      "        [ 0.0110, -1.1369],\n",
      "        [ 0.8397, -1.0381],\n",
      "        [-0.2531, -0.0416],\n",
      "        [ 0.9947, -0.2601]]), tensor([[12.5465],\n",
      "        [ 7.2857],\n",
      "        [ 5.6703],\n",
      "        [ 2.4619],\n",
      "        [ 4.4886],\n",
      "        [ 6.2458],\n",
      "        [ 8.0863],\n",
      "        [ 9.4163],\n",
      "        [ 3.8280],\n",
      "        [ 7.0817]])]\n"
     ]
    }
   ],
   "source": [
    "def load_array(data_arrays, batch_size, is_train = True):\n",
    "    dataset = data.TensorDataset(*data_arrays) # *解包运算符：将一个可迭代对象（比如列表或元组）中的元素解包，并将它们作为单独的、独立的参数传递给函数。\n",
    "    return data.DataLoader(dataset, batch_size, shuffle=is_train)\n",
    "\n",
    "batch_size = 10\n",
    "data_iter = load_array((features,labels),batch_size) # 返回的数据的迭代器\n",
    "print(\"next(iter(data_iter)):\", next(iter(data_iter))) # iter(data_iter) 是一个迭代器对象，next是取迭代器里面的元素  "
   ]
  },
  {
   "cell_type": "code",
   "execution_count": 15,
   "id": "6a9ad423",
   "metadata": {},
   "outputs": [
    {
     "name": "stdout",
     "output_type": "stream",
     "text": [
      "Linear(in_features=2, out_features=1, bias=True)\n",
      "epoch1,loss0.000212\n",
      "epoch2,loss0.000105\n",
      "epoch3,loss0.000105\n",
      "epoch4,loss0.000105\n",
      "epoch5,loss0.000106\n",
      "epoch6,loss0.000105\n",
      "epoch7,loss0.000105\n",
      "epoch8,loss0.000105\n",
      "epoch9,loss0.000106\n",
      "epoch10,loss0.000105\n"
     ]
    }
   ],
   "source": [
    "# 使用框架的预定义好的层\n",
    "# nn是神经网络的缩写\n",
    "net = nn.Sequential(nn.Linear(2,1)) #线性回归对应的是nn的线性层（全连接层），指定层的输入输出维度即可；Sequential容器理解为list of liners\n",
    "\n",
    "# 初始化模型参数\n",
    "net[0].weight.data.normal_(0,0.01) # 使用正态分布替换掉weight变量里面的数据值\n",
    "net[0].bias.data.fill_(0)  # 偏差bias变量里面的值设置为0\n",
    "print(net[0])\n",
    "\n",
    "# 计算均方误差使用的是MSELoss类，也称为平方L2范数\n",
    "loss = nn.MSELoss()  #L1是算术差，L2是平方差\n",
    "\n",
    "# 实例化SGD实例\n",
    "trainer = torch.optim.SGD(net.parameters(),lr=0.03)\n",
    "\n",
    "# 训练过程代码与从零开始时所做的非常相似\n",
    "num_epochs = 10\n",
    "for epoch in range(num_epochs):\n",
    "    for X, y in data_iter:  # 从DataLoader里面一次一次把所有数据拿出来\n",
    "#         print(\"X:\",X)\n",
    "#         print(\"y:\",y)\n",
    "        l = loss(net(X),y) # net(X) 为计算出来的线性回归的预测值\n",
    "        trainer.zero_grad() # 梯度清零\n",
    "        l.backward()\n",
    "        trainer.step()  # SGD优化器优化模型\n",
    "    l = loss(net(features),labels)\n",
    "    print(f'epoch{epoch+1},loss{l:f}')"
   ]
  }
 ],
 "metadata": {
  "kernelspec": {
   "display_name": "d2l",
   "language": "python",
   "name": "python3"
  },
  "language_info": {
   "codemirror_mode": {
    "name": "ipython",
    "version": 3
   },
   "file_extension": ".py",
   "mimetype": "text/x-python",
   "name": "python",
   "nbconvert_exporter": "python",
   "pygments_lexer": "ipython3",
   "version": "3.9.23"
  }
 },
 "nbformat": 4,
 "nbformat_minor": 5
}
