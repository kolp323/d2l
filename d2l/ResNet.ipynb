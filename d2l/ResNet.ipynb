{
 "cells": [
  {
   "cell_type": "markdown",
   "id": "6446212a",
   "metadata": {},
   "source": [
    "### 模型变大精度不一定更优\n",
    "但只要保证变大后的模型包含小模型，那么大模型的性能是严格优于小模型的  \n",
    "通过残差块 f(x) = g(x) + x 保证后面的层至少能学习到x"
   ]
  },
  {
   "cell_type": "markdown",
   "id": "8f6662c4",
   "metadata": {},
   "source": [
    "### ResNet的梯度计算\n",
    "反向计算时：接近输出的梯度较大，而接近数据端的梯度由于连续的乘法会较小，导致学习到后期时前面的层很难再进行学习。  \n",
    "ResNet通过加法保证了梯度随反向深度不会减小太多，前一层至少约有后一层的梯度大小，从而保证了近数据端的更新速度。"
   ]
  },
  {
   "cell_type": "code",
   "execution_count": 1,
   "id": "a1c6c493",
   "metadata": {},
   "outputs": [],
   "source": [
    "import torch\n",
    "from torch import nn\n",
    "from torch.nn import functional as F\n",
    "from d2l import torch as d2l"
   ]
  },
  {
   "cell_type": "code",
   "execution_count": 2,
   "id": "cdfe8599",
   "metadata": {},
   "outputs": [],
   "source": [
    "class Residual(nn.Module):\n",
    "    def __init__(self, input_channels, num_channels, use_1x1conv=False, strides=1):\n",
    "        # num_channels为输出channel数 \n",
    "        super().__init__() \n",
    "        self.conv1 = nn.Conv2d(input_channels, num_channels, kernel_size=3, padding=1, stride=strides)\n",
    "        self.conv2 = nn.Conv2d(num_channels, num_channels, kernel_size=3, padding=1)\n",
    "        if use_1x1conv:\n",
    "            self.conv3 = nn.Conv2d(input_channels, num_channels, kernel_size=1, stride=strides)\n",
    "        else:\n",
    "            self.conv3 = None\n",
    "        self.bn1 = nn.BatchNorm2d(num_channels)\n",
    "        self.bn2 = nn.BatchNorm2d(num_channels)\n",
    "        self.relu = nn.ReLU(inplace=True) # inplace原地操作，不创建新变量，对原变量操作，节约内存\n",
    "\n",
    "    def forward(self, X):\n",
    "        Y = F.relu(self.bn1(self.conv1(X)))\n",
    "        Y = self.bn2(self.conv2(Y))\n",
    "        if self.conv3:\n",
    "            X = self.conv3(X)\n",
    "        Y += X\n",
    "        return F.relu(Y)\n",
    "\n"
   ]
  },
  {
   "cell_type": "code",
   "execution_count": 5,
   "id": "e73c17d7",
   "metadata": {},
   "outputs": [
    {
     "name": "stdout",
     "output_type": "stream",
     "text": [
      "torch.Size([4, 3, 6, 6])\n"
     ]
    },
    {
     "data": {
      "text/plain": [
       "torch.Size([4, 6, 3, 3])"
      ]
     },
     "execution_count": 5,
     "metadata": {},
     "output_type": "execute_result"
    }
   ],
   "source": [
    "# 输入和输出形状一致 的残差块\n",
    "blk = Residual(3, 3) # 输入三通道，输出三通道\n",
    "X = torch.rand(4, 3, 6, 6) \n",
    "Y = blk(X) # stride用的默认的1，所以宽高没有变化。如果strides用2，则宽高减半\n",
    "print(Y.shape)\n",
    "# 增加输出通道数的同时减半输出的高和宽 的残差块\n",
    "blk = Residual(3, 6, use_1x1conv=True, strides=2)  # 由3变为6，通道数加倍\n",
    "blk(X).shape"
   ]
  },
  {
   "cell_type": "code",
   "execution_count": null,
   "id": "ff9481ef",
   "metadata": {},
   "outputs": [],
   "source": [
    "# ResNet的第一个stage\n",
    "b1 = nn.Sequential(\n",
    "    nn.Conv2d(1, 64, kernel_size=7, stride=2, padding=3),\n",
    "    nn.BatchNorm2d(64), nn.ReLU(),\n",
    "    nn.MaxPool2d(kernel_size=3, stride=2, padding=1))\n",
    "\n",
    "# class Residual为小block，resnet_block 为大block，#* 为Resnet网络的一个stage\n",
    "\n",
    "def resnet_block(input_channels, num_channels, num_residuals, first_block=False):\n",
    "    '''\n",
    "    num_residuals：resnet_block中所含的Residual块数\n",
    "    first_block：第一个Residual块默认减半，设为True则此stage块中第一个Residual块不减半\n",
    "    '''\n",
    "    blk = []\n",
    "    for i in range(num_residuals):\n",
    "        if i == 0 and not first_block: \n",
    "            # 如果\n",
    "            blk.append(Residual(input_channels, num_channels, use_1x1conv=True, strides=2))   \n",
    "        else:\n",
    "            blk.append(Residual(num_channels, num_channels))\n",
    "    return blk\n",
    "\n",
    "# 因为b1做了两次宽高减半，nn.Conv2d、nn.MaxPool2d，所以b2中的首次就不减半了  \n",
    "b2 = nn.Sequential(*resnet_block(64, 64, 2, first_block=True))     \n",
    "# b3、b4、b5的首次卷积层都减半\n",
    "b3 = nn.Sequential(*resnet_block(64, 128, 2)) \n",
    "b4 = nn.Sequential(*resnet_block(128, 256, 2))\n",
    "b5 = nn.Sequential(*resnet_block(256, 512, 2))\n",
    "\n",
    "net = nn.Sequential(\n",
    "    b1, b2, b3, b4, b5,\n",
    "    nn.AdaptiveAvgPool2d((1,1)),\n",
    "    nn.Flatten(),\n",
    "    nn.Linear(512,10))    "
   ]
  },
  {
   "cell_type": "code",
   "execution_count": 7,
   "id": "77f39f18",
   "metadata": {},
   "outputs": [
    {
     "name": "stdout",
     "output_type": "stream",
     "text": [
      "Sequential output shape:\t torch.Size([1, 64, 56, 56])\n",
      "Sequential output shape:\t torch.Size([1, 64, 56, 56])\n",
      "Sequential output shape:\t torch.Size([1, 128, 28, 28])\n",
      "Sequential output shape:\t torch.Size([1, 256, 14, 14])\n",
      "Sequential output shape:\t torch.Size([1, 512, 7, 7])\n",
      "AdaptiveAvgPool2d output shape:\t torch.Size([1, 512, 1, 1])\n",
      "Flatten output shape:\t torch.Size([1, 512])\n",
      "Linear output shape:\t torch.Size([1, 10])\n"
     ]
    }
   ],
   "source": [
    "# 观察一下ReNet中不同模块的输入形状是如何变化的\n",
    "X = torch.rand(size=(1,1,224,224))\n",
    "for layer in net:\n",
    "    X = layer(X)\n",
    "    print(layer.__class__.__name__,'output shape:\\t',X.shape) # 通道数翻倍、模型减半"
   ]
  },
  {
   "cell_type": "code",
   "execution_count": null,
   "id": "ce525e15",
   "metadata": {},
   "outputs": [],
   "source": [
    "from my_model import my_train"
   ]
  },
  {
   "cell_type": "code",
   "execution_count": null,
   "id": "ca900f43",
   "metadata": {},
   "outputs": [],
   "source": [
    "# 训练模型\n",
    "# lr, num_epochs, batch_size = 0.05, 10, 256\n",
    "lr, num_epochs, batch_size = 0.001, 10, 256\n",
    "train_iter, test_iter = d2l.load_data_fashion_mnist(batch_size, resize=96)  \n",
    "my_train(net, train_iter, test_iter, num_epochs, lr, d2l.try_gpu(), stratergy=\"Adam\")"
   ]
  }
 ],
 "metadata": {
  "kernelspec": {
   "display_name": "d2l",
   "language": "python",
   "name": "python3"
  },
  "language_info": {
   "codemirror_mode": {
    "name": "ipython",
    "version": 3
   },
   "file_extension": ".py",
   "mimetype": "text/x-python",
   "name": "python",
   "nbconvert_exporter": "python",
   "pygments_lexer": "ipython3",
   "version": "3.9.23"
  }
 },
 "nbformat": 4,
 "nbformat_minor": 5
}
