{
 "cells": [
  {
   "cell_type": "code",
   "execution_count": null,
   "id": "1fccea9b",
   "metadata": {},
   "outputs": [],
   "source": [
    "import torch\n",
    "import torchvision\n",
    "from torch.utils import data\n",
    "from torchvision import transforms\n",
    "\n",
    "from torch import nn\n"
   ]
  },
  {
   "cell_type": "markdown",
   "id": "6e3e5f40",
   "metadata": {},
   "source": [
    "### 数据处理"
   ]
  },
  {
   "cell_type": "code",
   "execution_count": 2,
   "id": "e0734e30",
   "metadata": {},
   "outputs": [],
   "source": [
    "batch_size = 256\n",
    "\n",
    "trans = transforms.ToTensor()\n",
    "# 创建Dataset对象\n",
    "mnist_train = torchvision.datasets.FashionMNIST(root=\"../data/\",train=True,transform=trans,download=True)\n",
    "mnist_test = torchvision.datasets.FashionMNIST(root=\"../data/\",train=False,transform=trans,download=True) \n",
    "\n",
    "train_iter = data.DataLoader(mnist_train, batch_size, shuffle=True, num_workers=4) # 加载数据并分批\n",
    "test_iter = data.DataLoader(mnist_train, batch_size, shuffle=True, num_workers=4)"
   ]
  },
  {
   "cell_type": "markdown",
   "id": "4ae9ac84",
   "metadata": {},
   "source": [
    "### 初始化"
   ]
  },
  {
   "cell_type": "code",
   "execution_count": 3,
   "id": "e1a04c6d",
   "metadata": {},
   "outputs": [
    {
     "data": {
      "text/plain": [
       "Sequential(\n",
       "  (0): Flatten(start_dim=1, end_dim=-1)\n",
       "  (1): Linear(in_features=784, out_features=256, bias=True)\n",
       "  (2): ReLU()\n",
       "  (3): Linear(in_features=256, out_features=10, bias=True)\n",
       ")"
      ]
     },
     "execution_count": 3,
     "metadata": {},
     "output_type": "execute_result"
    }
   ],
   "source": [
    "net = nn.Sequential(nn.Flatten(),nn.Linear(784,256),nn.ReLU(),nn.Linear(256,10))\n",
    "\n",
    "def init_weights(m):\n",
    "    if type(m) == nn.Linear:\n",
    "        nn.init.normal_(m.weight, std=0.01)\n",
    "\n",
    "net.apply(init_weights)"
   ]
  },
  {
   "cell_type": "markdown",
   "id": "eeaf84e3",
   "metadata": {},
   "source": [
    "### 训练"
   ]
  },
  {
   "cell_type": "code",
   "execution_count": 6,
   "id": "37575dc2",
   "metadata": {},
   "outputs": [],
   "source": [
    "batch_size, lr, num_epochs = 256, 0.1, 10\n",
    "loss = nn.CrossEntropyLoss()\n",
    "trainer = torch.optim.SGD(net.parameters(), lr=lr)\n",
    "\n",
    "num_epochs = 10\n",
    "num_correct = 0\n",
    "train_loss = 0\n",
    "num_samples = 0\n",
    "\n",
    "for epoch in range(num_epochs):\n",
    "    for X, y in train_iter:  # 从DataLoader里面一次一次把所有数据拿出来\n",
    "        l = loss(net(X),y) # net(X) 为计算出来的线性回归的预测值\n",
    "        trainer.zero_grad() # 梯度清零\n",
    "        l.backward()\n",
    "        trainer.step()  # SGD优化器优化模型\n",
    "    print(f'epoch:{epoch+1},cost:{l:f}')"
   ]
  },
  {
   "cell_type": "code",
   "execution_count": 7,
   "id": "37af86a9",
   "metadata": {},
   "outputs": [
    {
     "name": "stdout",
     "output_type": "stream",
     "text": [
      "测试集平均loss: 0.352948\n",
      "测试集准确率: 0.8731\n"
     ]
    }
   ],
   "source": [
    "test_loss = 0\n",
    "num_samples = 0\n",
    "num_correct = 0\n",
    "with torch.no_grad():\n",
    "    for X, y in test_iter:\n",
    "        out = net(X)\n",
    "        batch_loss = loss(out, y)\n",
    "        test_loss += batch_loss.item() * X.shape[0]\n",
    "        num_samples += X.shape[0]\n",
    "        # 计算预测类别\n",
    "        pred = out.argmax(dim=1)\n",
    "        num_correct += (pred == y).sum().item()\n",
    "    avg_test_loss = test_loss / num_samples\n",
    "    accuracy = num_correct / num_samples\n",
    "print(f\"测试集平均loss: {avg_test_loss:.6f}\")\n",
    "print(f\"测试集准确率: {accuracy:.4f}\")"
   ]
  }
 ],
 "metadata": {
  "kernelspec": {
   "display_name": "d2l",
   "language": "python",
   "name": "python3"
  },
  "language_info": {
   "codemirror_mode": {
    "name": "ipython",
    "version": 3
   },
   "file_extension": ".py",
   "mimetype": "text/x-python",
   "name": "python",
   "nbconvert_exporter": "python",
   "pygments_lexer": "ipython3",
   "version": "3.9.23"
  }
 },
 "nbformat": 4,
 "nbformat_minor": 5
}
