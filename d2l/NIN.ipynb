{
 "cells": [
  {
   "cell_type": "code",
   "execution_count": 1,
   "id": "6f078fde",
   "metadata": {},
   "outputs": [],
   "source": [
    "import torch\n",
    "from torch import nn\n",
    "from d2l import torch as d2l"
   ]
  },
  {
   "cell_type": "code",
   "execution_count": 2,
   "id": "3e00f773",
   "metadata": {},
   "outputs": [],
   "source": [
    "# 卷积层参数：ci*co*k^2\n",
    "# 卷积层后的第一个全连接层参数：co*w*h*out_dim"
   ]
  },
  {
   "cell_type": "code",
   "execution_count": 3,
   "id": "20d4df6d",
   "metadata": {},
   "outputs": [],
   "source": [
    "def nin_block(in_channels, out_channels, kernel_size, strides, padding):\n",
    "    \"\"\"\n",
    "    kernel_size和padding都是针对第一个卷积层的参数\n",
    "    \"\"\"\n",
    "    return nn.Sequential(\n",
    "        nn.Conv2d(in_channels, out_channels, kernel_size, strides, padding),\n",
    "        nn.ReLU(), nn.Conv2d(out_channels, out_channels, kernel_size=1),\n",
    "        nn.ReLU(), nn.Conv2d(out_channels, out_channels, kernel_size=1),\n",
    "        nn.ReLU()\n",
    "    )"
   ]
  },
  {
   "cell_type": "code",
   "execution_count": 4,
   "id": "7f94f242",
   "metadata": {},
   "outputs": [],
   "source": [
    "# 结构与Alexnet基本一致，只是在原来的每个卷积层后加了两个1*1卷积层\n",
    "# ? Dropout一般设置在由较大输入层之前？（如全连接层前）\n",
    "net = nn.Sequential(\n",
    "    nin_block(1, 96, kernel_size=11, strides=4, padding=0),\n",
    "    nn.MaxPool2d(3, stride=2),\n",
    "    nin_block(96, 256, kernel_size=5, strides=1, padding=2),\n",
    "    nn.MaxPool2d(3, stride=2),\n",
    "    nin_block(256, 384, kernel_size=3, strides=1, padding=1),\n",
    "    nn.MaxPool2d(3, stride=2),\n",
    "    nn.Dropout(0.5),\n",
    "    nin_block(384, 10, kernel_size=3, strides=1, padding=1),\n",
    "    nn.AdaptiveAvgPool2d((1,1)), \n",
    "    nn.Flatten()\n",
    ")"
   ]
  },
  {
   "cell_type": "code",
   "execution_count": 5,
   "id": "632e20b5",
   "metadata": {},
   "outputs": [
    {
     "name": "stdout",
     "output_type": "stream",
     "text": [
      "Sequential Output shape:\t torch.Size([1, 96, 54, 54])\n",
      "MaxPool2d Output shape:\t torch.Size([1, 96, 26, 26])\n",
      "Sequential Output shape:\t torch.Size([1, 256, 26, 26])\n",
      "MaxPool2d Output shape:\t torch.Size([1, 256, 12, 12])\n",
      "Sequential Output shape:\t torch.Size([1, 384, 12, 12])\n",
      "MaxPool2d Output shape:\t torch.Size([1, 384, 5, 5])\n",
      "Dropout Output shape:\t torch.Size([1, 384, 5, 5])\n",
      "Sequential Output shape:\t torch.Size([1, 10, 5, 5])\n",
      "AdaptiveAvgPool2d Output shape:\t torch.Size([1, 10, 1, 1])\n",
      "Flatten Output shape:\t torch.Size([1, 10])\n"
     ]
    }
   ],
   "source": [
    "# 检查输出形状\n",
    "X = torch.randn(size=(1, 1, 224, 224))\n",
    "for layer in net:\n",
    "    X = layer(X)\n",
    "    print(layer.__class__.__name__, 'Output shape:\\t', X.shape)"
   ]
  },
  {
   "cell_type": "code",
   "execution_count": null,
   "id": "535d5efc",
   "metadata": {},
   "outputs": [],
   "source": [
    "from my_model import my_train"
   ]
  },
  {
   "cell_type": "code",
   "execution_count": null,
   "id": "4ae54a04",
   "metadata": {},
   "outputs": [],
   "source": [
    "lr, num_epochs, batch_size = 0.001, 10, 128\n",
    "train_iter, test_iter = train_iter, test_iter = d2l.load_data_fashion_mnist(batch_size,resize=224)   \n",
    "my_train(net, train_iter, test_iter, num_epochs, lr, d2l.try_gpu(), stratergy=\"Adam\")"
   ]
  }
 ],
 "metadata": {
  "kernelspec": {
   "display_name": "d2l",
   "language": "python",
   "name": "python3"
  },
  "language_info": {
   "codemirror_mode": {
    "name": "ipython",
    "version": 3
   },
   "file_extension": ".py",
   "mimetype": "text/x-python",
   "name": "python",
   "nbconvert_exporter": "python",
   "pygments_lexer": "ipython3",
   "version": "3.9.23"
  }
 },
 "nbformat": 4,
 "nbformat_minor": 5
}
