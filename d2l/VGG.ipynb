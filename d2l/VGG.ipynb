{
 "cells": [
  {
   "cell_type": "code",
   "execution_count": null,
   "id": "fd0a9a82",
   "metadata": {},
   "outputs": [],
   "source": [
    "import torch\n",
    "from torch import nn\n",
    "from d2l import torch as d2l\n"
   ]
  },
  {
   "cell_type": "code",
   "execution_count": 2,
   "id": "fb3a4847",
   "metadata": {},
   "outputs": [],
   "source": [
    "# vgg块\n",
    "def vgg_block(num_convs, in_channels, out_channels):\n",
    "    layers = []\n",
    "    # 添加卷积层\n",
    "    for _ in range(num_convs):\n",
    "        layers.append(\n",
    "            nn.Conv2d(in_channels, out_channels, kernel_size=3, padding=1)\n",
    "        ) # w-3+1+2 = w \n",
    "        layers.append(\n",
    "            nn.ReLU()\n",
    "        )\n",
    "        in_channels = out_channels # 除了第一个卷积层，剩下的输入输出通道相同\n",
    "    # 添加池化层\n",
    "    layers.append(\n",
    "        nn.MaxPool2d(kernel_size=2,stride=2) \n",
    "    ) # w/2\n",
    "\n",
    "    # *layers表示把列表里面的元素按顺序作为参数传入函数\n",
    "    return nn.Sequential(*layers)    \n"
   ]
  },
  {
   "cell_type": "code",
   "execution_count": 3,
   "id": "4fe7b1f5",
   "metadata": {},
   "outputs": [],
   "source": [
    "# 由给定架构构建vgg网络\n",
    "conv_arch = ((1,64),(1,128),(2,256),(2,512),(2,512))  # (卷积层数，输出通道数)\n",
    "\n",
    "def vgg(conv_arch):\n",
    "    conv_blk = []\n",
    "    in_channels = 1\n",
    "    for (num_convs, out_channels) in conv_arch:\n",
    "        conv_blk.append(\n",
    "            vgg_block(num_convs, in_channels, out_channels)\n",
    "        )\n",
    "        in_channels = out_channels\n",
    "\n",
    "    # 224 / (2^5) = 7 （卷积层不改变大小，5个池化层每个除2）\n",
    "    return nn.Sequential(\n",
    "        *conv_blk, nn.Flatten(),\n",
    "        nn.Linear(out_channels * 7 * 7, 4096), nn.ReLU(),\n",
    "        nn.Dropout(0.5), nn.Linear(4096, 4096), nn.ReLU(),\n",
    "        nn.Dropout(0.5), nn.Linear(4096, 10)\n",
    "    ) \n",
    "\n",
    "net = vgg(conv_arch)"
   ]
  },
  {
   "cell_type": "code",
   "execution_count": 10,
   "id": "b6a88988",
   "metadata": {},
   "outputs": [
    {
     "name": "stdout",
     "output_type": "stream",
     "text": [
      "Sequential Output shape:\t torch.Size([1, 64, 112, 112])\n",
      "Sequential Output shape:\t torch.Size([1, 128, 56, 56])\n",
      "Sequential Output shape:\t torch.Size([1, 256, 28, 28])\n",
      "Sequential Output shape:\t torch.Size([1, 512, 14, 14])\n",
      "Sequential Output shape:\t torch.Size([1, 512, 7, 7])\n",
      "Flatten Output shape:\t torch.Size([1, 25088])\n",
      "Linear Output shape:\t torch.Size([1, 4096])\n",
      "ReLU Output shape:\t torch.Size([1, 4096])\n",
      "Dropout Output shape:\t torch.Size([1, 4096])\n",
      "Linear Output shape:\t torch.Size([1, 4096])\n",
      "ReLU Output shape:\t torch.Size([1, 4096])\n",
      "Dropout Output shape:\t torch.Size([1, 4096])\n",
      "Linear Output shape:\t torch.Size([1, 10])\n"
     ]
    }
   ],
   "source": [
    "X = torch.randn(size=(1, 1, 224, 224))\n",
    "for blk in net:\n",
    "    X = blk(X)\n",
    "    print(blk.__class__.__name__, 'Output shape:\\t', X.shape)"
   ]
  },
  {
   "cell_type": "code",
   "execution_count": null,
   "id": "61cc50a6",
   "metadata": {},
   "outputs": [],
   "source": [
    "# 通道数除4，构建一个较小的VGG（计算量约减小了16倍， ci*co*kh*hw*h*w, 中间的ci和co都减小了四倍）\n",
    "ratio = 4\n",
    "small_conv_arch = [(pair[0], pair[1] // ratio) for pair in conv_arch]\n",
    "net = vgg(small_conv_arch)"
   ]
  },
  {
   "cell_type": "code",
   "execution_count": null,
   "id": "4a402381",
   "metadata": {},
   "outputs": [],
   "source": [
    "from my_model import my_train"
   ]
  },
  {
   "cell_type": "code",
   "execution_count": null,
   "id": "83591460",
   "metadata": {},
   "outputs": [],
   "source": [
    "lr, num_epochs, batch_size = 0.001, 10, 128\n",
    "train_iter, test_iter = train_iter, test_iter = d2l.load_data_fashion_mnist(batch_size,resize=224)   \n",
    "my_train(net, train_iter, test_iter, num_epochs, lr, d2l.try_gpu(), stratergy=\"Adam\")"
   ]
  }
 ],
 "metadata": {
  "kernelspec": {
   "display_name": "d2l",
   "language": "python",
   "name": "python3"
  },
  "language_info": {
   "codemirror_mode": {
    "name": "ipython",
    "version": 3
   },
   "file_extension": ".py",
   "mimetype": "text/x-python",
   "name": "python",
   "nbconvert_exporter": "python",
   "pygments_lexer": "ipython3",
   "version": "3.9.23"
  }
 },
 "nbformat": 4,
 "nbformat_minor": 5
}
