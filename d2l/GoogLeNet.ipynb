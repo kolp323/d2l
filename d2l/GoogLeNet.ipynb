{
 "cells": [
  {
   "cell_type": "code",
   "execution_count": 16,
   "id": "5608dab7",
   "metadata": {},
   "outputs": [],
   "source": [
    "import torch\n",
    "from torch import nn\n",
    "from torch.nn import functional as F\n",
    "from d2l import torch as d2l"
   ]
  },
  {
   "cell_type": "code",
   "execution_count": 17,
   "id": "5b63276b",
   "metadata": {},
   "outputs": [],
   "source": [
    "# Inception块\n",
    "class Inception(nn.Module):\n",
    "    def __init__(self, in_channels, c1, c2, c3, c4, **kwargs):\n",
    "        \"\"\"\n",
    "        ci:第i条输入路径的通道数\n",
    "        其中c2,c3,c4都有两条分支\n",
    "        \"\"\"\n",
    "        super(Inception, self).__init__(**kwargs)\n",
    "        self.p1_1 = nn.Conv2d(in_channels, c1, kernel_size=1)\n",
    "        self.p2_1 = nn.Conv2d(in_channels, c2[0], kernel_size=1)\n",
    "        self.p2_2 = nn.Conv2d(c2[0], c2[1], kernel_size=3, padding=1)\n",
    "        self.p3_1 = nn.Conv2d(in_channels, c3[0], kernel_size=1)\n",
    "        self.p3_2 = nn.Conv2d(c3[0],c3[1],kernel_size=5,padding=2)\n",
    "        self.p4_1 = nn.MaxPool2d(kernel_size=3, stride=1, padding=1)\n",
    "        self.p4_2 = nn.Conv2d(in_channels,c4,kernel_size=1)\n",
    "\n",
    "    def forward(self, x):\n",
    "        p1 = F.relu(self.p1_1(x))\n",
    "        p2 = F.relu(self.p2_2(F.relu(self.p2_1(x))))\n",
    "        p3 = F.relu(self.p3_2(F.relu(self.p3_1(x))))\n",
    "        p4 = F.relu(self.p4_2(self.p4_1(x)))\n",
    "        return torch.cat((p1, p2, p3, p4), dim=1)"
   ]
  },
  {
   "cell_type": "code",
   "execution_count": 18,
   "id": "5ea75837",
   "metadata": {},
   "outputs": [],
   "source": [
    "# 5个stage\n",
    "b1 = nn.Sequential(\n",
    "    nn.Conv2d(1,64,kernel_size=7,stride=2,padding=3),\n",
    "    nn.ReLU(),nn.MaxPool2d(kernel_size=3,stride=2,padding=1))  \n",
    "\n",
    "b2 = nn.Sequential(\n",
    "    nn.Conv2d(64,64,kernel_size=1),nn.ReLU(),\n",
    "    nn.Conv2d(64,192,kernel_size=3,padding=1),\n",
    "    nn.MaxPool2d(kernel_size=3,stride=2,padding=1))\n",
    "\n",
    "b3 = nn.Sequential(\n",
    "    Inception(192,64,(96,128),(16,32),32),\n",
    "    Inception(256,128,(128,192),(32,96),64),\n",
    "    nn.MaxPool2d(kernel_size=3,stride=2,padding=1))\n",
    "\n",
    "b4 = nn.Sequential(\n",
    "    Inception(480,192,(96,208),(16,48),64),\n",
    "    Inception(512,160,(112,224),(24,64),64),\n",
    "    Inception(512,128,(128,256),(24,64),64),\n",
    "    Inception(512,112,(144,288),(32,64),64),\n",
    "    Inception(528,256,(160,320),(32,128),128),\n",
    "    nn.MaxPool2d(kernel_size=3,stride=2,padding=1))\n",
    "\n",
    "b5 = nn.Sequential(\n",
    "    Inception(832,256,(160,320),(32,128),128),\n",
    "    Inception(832,384,(192,384),(48,128),128),\n",
    "    nn.AdaptiveAvgPool2d((1,1)),nn.Flatten())\n",
    "\n",
    "net = nn.Sequential(b1,b2,b3,b4,b5,nn.Linear(1024,10))"
   ]
  },
  {
   "cell_type": "code",
   "execution_count": 19,
   "id": "124fbfef",
   "metadata": {},
   "outputs": [
    {
     "name": "stdout",
     "output_type": "stream",
     "text": [
      "Sequential output shape:\t torch.Size([1, 64, 24, 24])\n",
      "Sequential output shape:\t torch.Size([1, 192, 12, 12])\n",
      "Sequential output shape:\t torch.Size([1, 480, 6, 6])\n",
      "Sequential output shape:\t torch.Size([1, 832, 3, 3])\n",
      "Sequential output shape:\t torch.Size([1, 1024])\n",
      "Linear output shape:\t torch.Size([1, 10])\n"
     ]
    }
   ],
   "source": [
    "# 为了使Fashion-MNIST上的训练短小精悍，我们将输入的高和宽从224降到96\n",
    "X = torch.rand(size=(1,1,96,96))\n",
    "for layer in net:\n",
    "    X = layer(X)\n",
    "    print(layer.__class__.__name__,'output shape:\\t',X.shape)"
   ]
  },
  {
   "cell_type": "code",
   "execution_count": null,
   "id": "d4355725",
   "metadata": {},
   "outputs": [],
   "source": [
    "from my_model import my_train"
   ]
  },
  {
   "cell_type": "code",
   "execution_count": null,
   "id": "39f656d3",
   "metadata": {},
   "outputs": [],
   "source": [
    "lr, num_epochs, batch_size =0.001, 1, 128\n",
    "train_iter, test_iter = d2l.load_data_fashion_mnist(batch_size,resize=96)  \n",
    "my_train(net,train_iter, test_iter,num_epochs, lr, d2l.try_gpu(), stratergy=\"Adam\")"
   ]
  }
 ],
 "metadata": {
  "kernelspec": {
   "display_name": "d2l",
   "language": "python",
   "name": "python3"
  },
  "language_info": {
   "codemirror_mode": {
    "name": "ipython",
    "version": 3
   },
   "file_extension": ".py",
   "mimetype": "text/x-python",
   "name": "python",
   "nbconvert_exporter": "python",
   "pygments_lexer": "ipython3",
   "version": "3.9.23"
  }
 },
 "nbformat": 4,
 "nbformat_minor": 5
}
