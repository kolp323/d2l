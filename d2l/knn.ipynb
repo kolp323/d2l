{
 "cells": [
  {
   "cell_type": "code",
   "execution_count": null,
   "id": "04e55b67",
   "metadata": {},
   "outputs": [],
   "source": [
    "import torch \n",
    "import torchvision\n",
    "from torch.utils import data\n",
    "from torchvision import transforms\n",
    "from torch import nn"
   ]
  },
  {
   "cell_type": "code",
   "execution_count": null,
   "id": "5d071e08",
   "metadata": {},
   "outputs": [],
   "source": [
    "batch_size = 256\n",
    "trans = transforms.ToTensor()\n",
    "# 创建Dataset对象\n",
    "mnist_train = torchvision.datasets.FashionMNIST(root=\"../data/\",train=True,transform=trans,download=True)\n",
    "mnist_test = torchvision.datasets.FashionMNIST(root=\"../data/\",train=False,transform=trans,download=True) \n",
    "\n",
    "train_iter = data.DataLoader(mnist_train, batch_size, shuffle=True, num_workers=4) # 加载数据并分批\n",
    "test_iter = data.DataLoader(mnist_train, batch_size, shuffle=True, num_workers=4)"
   ]
  },
  {
   "cell_type": "code",
   "execution_count": null,
   "id": "309c925c",
   "metadata": {},
   "outputs": [],
   "source": []
  }
 ],
 "metadata": {
  "kernelspec": {
   "display_name": "d2l",
   "language": "python",
   "name": "python3"
  },
  "language_info": {
   "name": "python",
   "version": "3.9.23"
  }
 },
 "nbformat": 4,
 "nbformat_minor": 5
}
