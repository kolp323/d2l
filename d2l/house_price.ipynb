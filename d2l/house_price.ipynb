{
 "cells": [
  {
   "cell_type": "code",
   "execution_count": 1,
   "id": "f2debf65",
   "metadata": {},
   "outputs": [
    {
     "name": "stdout",
     "output_type": "stream",
     "text": [
      "(47439, 41)\n",
      "(31626, 40)\n"
     ]
    }
   ],
   "source": [
    "# 导入需要的库\n",
    "%matplotlib inline\n",
    "import numpy as np\n",
    "import pandas as pd\n",
    "import torch\n",
    "from torch import nn\n",
    "from d2l import torch as d2l\n",
    "\n",
    "# from autogluon.tabular import TabularDataset, TabularPredictor\n",
    "\n",
    "# 加载数据\n",
    "train_data = pd.read_csv('../data/california-house-prices/train.csv')\n",
    "test_data = pd.read_csv('../data/california-house-prices/test.csv')\n",
    "\n",
    "print(train_data.shape)\n",
    "print(test_data.shape)"
   ]
  },
  {
   "cell_type": "code",
   "execution_count": 7,
   "id": "754e1f3a",
   "metadata": {},
   "outputs": [
    {
     "name": "stdout",
     "output_type": "stream",
     "text": [
      "Id                                                                             0\n",
      "Address                                                              540 Pine Ln\n",
      "Sold Price                                                             3825000.0\n",
      "Summary                        540 Pine Ln, Los Altos, CA 94022 is a single f...\n",
      "Type                                                                SingleFamily\n",
      "Year built                                                                1969.0\n",
      "Heating                             Heating - 2+ Zones, Central Forced Air - Gas\n",
      "Cooling                          Multi-Zone, Central AC, Whole House / Attic Fan\n",
      "Parking                                       Garage, Garage - Attached, Covered\n",
      "Lot                                                                          1.0\n",
      "Bedrooms                       Ground Floor Bedroom, Master Bedroom on Ground...\n",
      "Bathrooms                                                                    0.0\n",
      "Full bathrooms                                                               NaN\n",
      "Total interior livable area                                                  1.0\n",
      "Total spaces                                                                 0.0\n",
      "Garage spaces                                                                0.0\n",
      "Region                                                                 Los Altos\n",
      "Elementary School                                   Santa Rita Elementary School\n",
      "Elementary School Score                                                      7.0\n",
      "Elementary School Distance                                                   0.4\n",
      "Middle School                                                                NaN\n",
      "Middle School Score                                                          NaN\n",
      "Middle School Distance                                                       NaN\n",
      "High School                                                Los Altos High School\n",
      "High School Score                                                            8.0\n",
      "High School Distance                                                         1.3\n",
      "Flooring                                                  Tile, Hardwood, Carpet\n",
      "Heating features                                                 Forced air, Gas\n",
      "Cooling features                                                         Central\n",
      "Appliances included            Dishwasher, Dryer, Garbage disposal, Microwave...\n",
      "Laundry features                         Washer / Dryer, Inside, In Utility Room\n",
      "Parking features                              Garage, Garage - Attached, Covered\n",
      "Tax assessed value                                                      886486.0\n",
      "Annual tax amount                                                        12580.0\n",
      "Listed On                                                             2019-10-24\n",
      "Listed Price                                                           4198000.0\n",
      "Last Sold On                                                                 NaN\n",
      "Last Sold Price                                                              NaN\n",
      "City                                                                   Los Altos\n",
      "Zip                                                                        94022\n",
      "State                                                                         CA\n",
      "Name: 0, dtype: object\n"
     ]
    }
   ],
   "source": [
    "print(train_data.iloc[0, :])"
   ]
  }
 ],
 "metadata": {
  "kernelspec": {
   "display_name": "d2l",
   "language": "python",
   "name": "python3"
  },
  "language_info": {
   "codemirror_mode": {
    "name": "ipython",
    "version": 3
   },
   "file_extension": ".py",
   "mimetype": "text/x-python",
   "name": "python",
   "nbconvert_exporter": "python",
   "pygments_lexer": "ipython3",
   "version": "3.9.23"
  }
 },
 "nbformat": 4,
 "nbformat_minor": 5
}
